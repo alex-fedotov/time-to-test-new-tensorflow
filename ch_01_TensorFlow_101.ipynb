{
  "nbformat": 4,
  "nbformat_minor": 0,
  "metadata": {
    "colab": {
      "name": "ch-01_TensorFlow_101.ipynb",
      "version": "0.3.2",
      "provenance": [],
      "include_colab_link": true
    },
    "kernelspec": {
      "name": "python3",
      "display_name": "Python 3"
    },
    "accelerator": "GPU"
  },
  "cells": [
    {
      "cell_type": "markdown",
      "metadata": {
        "id": "view-in-github",
        "colab_type": "text"
      },
      "source": [
        "<a href=\"https://colab.research.google.com/github/alxfed/time-to-test-new-tensorflow/blob/master/ch_01_TensorFlow_101.ipynb\" target=\"_parent\"><img src=\"https://colab.research.google.com/assets/colab-badge.svg\" alt=\"Open In Colab\"/></a>"
      ]
    },
    {
      "metadata": {
        "toc": true,
        "id": "epHMITlOebU2",
        "colab_type": "text"
      },
      "cell_type": "markdown",
      "source": [
        "<h1>Table of Contents<span class=\"tocSkip\"></span></h1>\n",
        "<div class=\"toc\" style=\"margin-top: 1em;\"><ul class=\"toc-item\"><li><span><a href=\"#Get-an-Interactive-TensorFlow-Session\" data-toc-modified-id=\"Get-an-Interactive-TensorFlow-Session-1\"><span class=\"toc-item-num\">1&nbsp;&nbsp;</span>Get an Interactive TensorFlow Session</a></span></li><li><span><a href=\"#Customary-Hello-TensorFlow-!!!\" data-toc-modified-id=\"Customary-Hello-TensorFlow-!!!-2\"><span class=\"toc-item-num\">2&nbsp;&nbsp;</span>Customary Hello TensorFlow !!!</a></span></li><li><span><a href=\"#Constants\" data-toc-modified-id=\"Constants-3\"><span class=\"toc-item-num\">3&nbsp;&nbsp;</span>Constants</a></span></li><li><span><a href=\"#Operations\" data-toc-modified-id=\"Operations-4\"><span class=\"toc-item-num\">4&nbsp;&nbsp;</span>Operations</a></span></li><li><span><a href=\"#Placeholders\" data-toc-modified-id=\"Placeholders-5\"><span class=\"toc-item-num\">5&nbsp;&nbsp;</span>Placeholders</a></span></li><li><span><a href=\"#Creating-Tensors-from-Existing-Objects\" data-toc-modified-id=\"Creating-Tensors-from-Existing-Objects-6\"><span class=\"toc-item-num\">6&nbsp;&nbsp;</span>Creating Tensors from Existing Objects</a></span><ul class=\"toc-item\"><li><span><a href=\"#0-Dimensional-Tensors-(Scalars)\" data-toc-modified-id=\"0-Dimensional-Tensors-(Scalars)-6.1\"><span class=\"toc-item-num\">6.1&nbsp;&nbsp;</span>0-Dimensional Tensors (Scalars)</a></span></li><li><span><a href=\"#1-Dimensional-Tensors-(Vectors)\" data-toc-modified-id=\"1-Dimensional-Tensors-(Vectors)-6.2\"><span class=\"toc-item-num\">6.2&nbsp;&nbsp;</span>1-Dimensional Tensors (Vectors)</a></span></li><li><span><a href=\"#2-Dimensional-Tensors-(Matrices)\" data-toc-modified-id=\"2-Dimensional-Tensors-(Matrices)-6.3\"><span class=\"toc-item-num\">6.3&nbsp;&nbsp;</span>2-Dimensional Tensors (Matrices)</a></span></li><li><span><a href=\"#3-Dimensional-Tensors\" data-toc-modified-id=\"3-Dimensional-Tensors-6.4\"><span class=\"toc-item-num\">6.4&nbsp;&nbsp;</span>3-Dimensional Tensors</a></span></li></ul></li><li><span><a href=\"#Variables\" data-toc-modified-id=\"Variables-7\"><span class=\"toc-item-num\">7&nbsp;&nbsp;</span>Variables</a></span></li><li><span><a href=\"#Creating-Tensors-from-Library-Functions\" data-toc-modified-id=\"Creating-Tensors-from-Library-Functions-8\"><span class=\"toc-item-num\">8&nbsp;&nbsp;</span>Creating Tensors from Library Functions</a></span></li><li><span><a href=\"#Close-the-interactive-session\" data-toc-modified-id=\"Close-the-interactive-session-9\"><span class=\"toc-item-num\">9&nbsp;&nbsp;</span>Close the interactive session</a></span></li><li><span><a href=\"#Computation-Graphs\" data-toc-modified-id=\"Computation-Graphs-10\"><span class=\"toc-item-num\">10&nbsp;&nbsp;</span>Computation Graphs</a></span><ul class=\"toc-item\"><li><span><a href=\"#Building-and-Running-simple-computation-graph\" data-toc-modified-id=\"Building-and-Running-simple-computation-graph-10.1\"><span class=\"toc-item-num\">10.1&nbsp;&nbsp;</span>Building and Running simple computation graph</a></span></li><li><span><a href=\"#Graph-on-Compute-Devices\" data-toc-modified-id=\"Graph-on-Compute-Devices-10.2\"><span class=\"toc-item-num\">10.2&nbsp;&nbsp;</span>Graph on Compute Devices</a></span></li><li><span><a href=\"#Executing-Graph-g-as-Default\" data-toc-modified-id=\"Executing-Graph-g-as-Default-10.3\"><span class=\"toc-item-num\">10.3&nbsp;&nbsp;</span>Executing Graph g as Default</a></span></li></ul></li><li><span><a href=\"#TensorBoard\" data-toc-modified-id=\"TensorBoard-11\"><span class=\"toc-item-num\">11&nbsp;&nbsp;</span>TensorBoard</a></span></li></ul></div>"
      ]
    },
    {
      "metadata": {
        "id": "wWZY1Ju5ebU5",
        "colab_type": "text"
      },
      "cell_type": "markdown",
      "source": [
        "# TensorFlow 101 <a class=\"tocSkip\">"
      ]
    },
    {
      "metadata": {
        "id": "SvQ5Pn7VebU8",
        "colab_type": "code",
        "colab": {}
      },
      "cell_type": "code",
      "source": [
        "import tensorflow as tf\n",
        "import numpy as np"
      ],
      "execution_count": 0,
      "outputs": []
    },
    {
      "metadata": {
        "id": "QXtFDI6lebVK",
        "colab_type": "text"
      },
      "cell_type": "markdown",
      "source": [
        "# Get an Interactive TensorFlow Session "
      ]
    },
    {
      "metadata": {
        "collapsed": true,
        "id": "IZY1O0FiebVM",
        "colab_type": "code",
        "colab": {}
      },
      "cell_type": "code",
      "source": [
        "tfs = tf.InteractiveSession()"
      ],
      "execution_count": 0,
      "outputs": []
    },
    {
      "metadata": {
        "id": "R93VXVU7ebVU",
        "colab_type": "text"
      },
      "cell_type": "markdown",
      "source": [
        "# Customary Hello TensorFlow !!!"
      ]
    },
    {
      "metadata": {
        "id": "pD5U6_htebVW",
        "colab_type": "code",
        "colab": {
          "base_uri": "https://localhost:8080/",
          "height": 34
        },
        "outputId": "83e68938-a4dc-4183-bf42-6dbe317939e0"
      },
      "cell_type": "code",
      "source": [
        "hello = tf.constant(\"Hello TensorFlow !!\")\n",
        "print(tfs.run(hello))"
      ],
      "execution_count": 3,
      "outputs": [
        {
          "output_type": "stream",
          "text": [
            "b'Hello TensorFlow !!'\n"
          ],
          "name": "stdout"
        }
      ]
    },
    {
      "metadata": {
        "id": "64DixTUiebVd",
        "colab_type": "text"
      },
      "cell_type": "markdown",
      "source": [
        "# Constants"
      ]
    },
    {
      "metadata": {
        "id": "2s9P5vIwebVf",
        "colab_type": "code",
        "colab": {
          "base_uri": "https://localhost:8080/",
          "height": 67
        },
        "outputId": "cf1841db-ec74-4ba3-9c3b-bdbd26a6b56a"
      },
      "cell_type": "code",
      "source": [
        "c1 = tf.constant(5, name='x')\n",
        "c2 = tf.constant(6.0, name='y')\n",
        "c3 = tf.constant(7.0, tf.float32, name='z')\n",
        "print('c1 (x): ', c1)\n",
        "print('c2 (y): ', c2)\n",
        "print('c3 (z): ', c3)"
      ],
      "execution_count": 4,
      "outputs": [
        {
          "output_type": "stream",
          "text": [
            "c1 (x):  Tensor(\"x:0\", shape=(), dtype=int32)\n",
            "c2 (y):  Tensor(\"y:0\", shape=(), dtype=float32)\n",
            "c3 (z):  Tensor(\"z:0\", shape=(), dtype=float32)\n"
          ],
          "name": "stdout"
        }
      ]
    },
    {
      "metadata": {
        "id": "F44QsnPfebVm",
        "colab_type": "code",
        "colab": {
          "base_uri": "https://localhost:8080/",
          "height": 34
        },
        "outputId": "59a27f47-75e1-45d2-de96-acae6bf08370"
      },
      "cell_type": "code",
      "source": [
        "print('run([c1,c2,c3]) : ', tfs.run([c1, c2, c3]))"
      ],
      "execution_count": 5,
      "outputs": [
        {
          "output_type": "stream",
          "text": [
            "run([c1,c2,c3]) :  [5, 6.0, 7.0]\n"
          ],
          "name": "stdout"
        }
      ]
    },
    {
      "metadata": {
        "id": "JhNCaNOGebVu",
        "colab_type": "text"
      },
      "cell_type": "markdown",
      "source": [
        "# Operations"
      ]
    },
    {
      "metadata": {
        "id": "5cZ_ya5SebVw",
        "colab_type": "code",
        "colab": {
          "base_uri": "https://localhost:8080/",
          "height": 50
        },
        "outputId": "18ca2111-1463-4819-8958-ade0445931bf"
      },
      "cell_type": "code",
      "source": [
        "op1 = tf.add(c2, c3)\n",
        "op2 = tf.multiply(c2, c3)\n",
        "print('op1 : ', op1)\n",
        "print('op2 : ', op2)"
      ],
      "execution_count": 6,
      "outputs": [
        {
          "output_type": "stream",
          "text": [
            "op1 :  Tensor(\"Add:0\", shape=(), dtype=float32)\n",
            "op2 :  Tensor(\"Mul:0\", shape=(), dtype=float32)\n"
          ],
          "name": "stdout"
        }
      ]
    },
    {
      "metadata": {
        "id": "9PtJDz2CebV4",
        "colab_type": "code",
        "colab": {
          "base_uri": "https://localhost:8080/",
          "height": 50
        },
        "outputId": "b339f308-356d-402c-8bac-f63c91e24a0d"
      },
      "cell_type": "code",
      "source": [
        "print('run(op1) : ', tfs.run(op1))\n",
        "print('run(op2) : ', tfs.run(op2))"
      ],
      "execution_count": 7,
      "outputs": [
        {
          "output_type": "stream",
          "text": [
            "run(op1) :  13.0\n",
            "run(op2) :  42.0\n"
          ],
          "name": "stdout"
        }
      ]
    },
    {
      "metadata": {
        "id": "sB5Tm6GKebWA",
        "colab_type": "text"
      },
      "cell_type": "markdown",
      "source": [
        "# Placeholders"
      ]
    },
    {
      "metadata": {
        "id": "fiw4po1eebWC",
        "colab_type": "code",
        "colab": {
          "base_uri": "https://localhost:8080/",
          "height": 50
        },
        "outputId": "6476207c-415b-4671-ae2e-9cf95c58d056"
      },
      "cell_type": "code",
      "source": [
        "p1 = tf.placeholder(tf.float32)\n",
        "p2 = tf.placeholder(tf.float32)\n",
        "print('p1 : ', p1)\n",
        "print('p2 : ', p2)"
      ],
      "execution_count": 8,
      "outputs": [
        {
          "output_type": "stream",
          "text": [
            "p1 :  Tensor(\"Placeholder:0\", dtype=float32)\n",
            "p2 :  Tensor(\"Placeholder_1:0\", dtype=float32)\n"
          ],
          "name": "stdout"
        }
      ]
    },
    {
      "metadata": {
        "id": "EjLQyuIuebWK",
        "colab_type": "code",
        "colab": {}
      },
      "cell_type": "code",
      "source": [
        "op4 = p1 * p2  # shorthand for tf.multiply(p1, p2)"
      ],
      "execution_count": 0,
      "outputs": []
    },
    {
      "metadata": {
        "id": "7mbU3F2yebWQ",
        "colab_type": "code",
        "colab": {
          "base_uri": "https://localhost:8080/",
          "height": 34
        },
        "outputId": "b31fe1d4-f6a9-408d-cc04-c64e6ef3f9ea"
      },
      "cell_type": "code",
      "source": [
        "print('run(op4,{p1:2.0, p2:3.0}) : ',tfs.run(op4,{p1:2.0, p2:3.0}))"
      ],
      "execution_count": 10,
      "outputs": [
        {
          "output_type": "stream",
          "text": [
            "run(op4,{p1:2.0, p2:3.0}) :  6.0\n"
          ],
          "name": "stdout"
        }
      ]
    },
    {
      "metadata": {
        "id": "BJtQndgzebWY",
        "colab_type": "code",
        "colab": {
          "base_uri": "https://localhost:8080/",
          "height": 34
        },
        "outputId": "fee9b3fb-53d8-465b-c540-0d23d2b0b8b0"
      },
      "cell_type": "code",
      "source": [
        "print('run(op4,feed_dict = {p1:3.0, p2:4.0}) : ',\n",
        "      tfs.run(op4, feed_dict={p1: 3.0, p2: 4.0}))"
      ],
      "execution_count": 11,
      "outputs": [
        {
          "output_type": "stream",
          "text": [
            "run(op4,feed_dict = {p1:3.0, p2:4.0}) :  12.0\n"
          ],
          "name": "stdout"
        }
      ]
    },
    {
      "metadata": {
        "id": "DqGW5MmGebWi",
        "colab_type": "code",
        "colab": {
          "base_uri": "https://localhost:8080/",
          "height": 34
        },
        "outputId": "c718281c-6bac-436d-b0ad-a0143bd0b68c"
      },
      "cell_type": "code",
      "source": [
        "print('run(op4,feed_dict={p1:[2.0,3.0,4.0], p2:[3.0,4.0,5.0]}):',\n",
        "      tfs.run(op4, feed_dict={p1: [2.0, 3.0, 4.0], p2: [3.0, 4.0, 5.0]}))"
      ],
      "execution_count": 12,
      "outputs": [
        {
          "output_type": "stream",
          "text": [
            "run(op4,feed_dict={p1:[2.0,3.0,4.0], p2:[3.0,4.0,5.0]}): [ 6. 12. 20.]\n"
          ],
          "name": "stdout"
        }
      ]
    },
    {
      "metadata": {
        "id": "HvrVRNzuebWu",
        "colab_type": "text"
      },
      "cell_type": "markdown",
      "source": [
        "# Creating Tensors from Existing Objects"
      ]
    },
    {
      "metadata": {
        "id": "iODs5wkQebWw",
        "colab_type": "text"
      },
      "cell_type": "markdown",
      "source": [
        "## 0-Dimensional Tensors (Scalars)"
      ]
    },
    {
      "metadata": {
        "id": "tGD0XvMvebWz",
        "colab_type": "code",
        "colab": {
          "base_uri": "https://localhost:8080/",
          "height": 67
        },
        "outputId": "24b3c58a-8870-4115-9e07-5c8d1535b64c"
      },
      "cell_type": "code",
      "source": [
        "tf_t = tf.convert_to_tensor(5.0, dtype=tf.float64)\n",
        "\n",
        "print('tf_t : ', tf_t)\n",
        "print('run(tf_t) : \\n', tfs.run(tf_t))"
      ],
      "execution_count": 13,
      "outputs": [
        {
          "output_type": "stream",
          "text": [
            "tf_t :  Tensor(\"Const_1:0\", shape=(), dtype=float64)\n",
            "run(tf_t) : \n",
            " 5.0\n"
          ],
          "name": "stdout"
        }
      ]
    },
    {
      "metadata": {
        "id": "pQgbGmIvebW8",
        "colab_type": "text"
      },
      "cell_type": "markdown",
      "source": [
        "## 1-Dimensional Tensors (Vectors)"
      ]
    },
    {
      "metadata": {
        "scrolled": true,
        "id": "h63uX_xGebW-",
        "colab_type": "code",
        "colab": {
          "base_uri": "https://localhost:8080/",
          "height": 118
        },
        "outputId": "2de9e5b4-60db-4aee-ce09-eb9d33115ae9"
      },
      "cell_type": "code",
      "source": [
        "a1dim = np.array([1, 2, 3, 4, 5.99])\n",
        "print(\"a1dim Shape : \", a1dim.shape)\n",
        "\n",
        "tf_t = tf.convert_to_tensor(a1dim, dtype=tf.float64)\n",
        "\n",
        "print('tf_t : ', tf_t)\n",
        "print('tf_t[0] : ', tf_t[0])\n",
        "print('tf_t[0] : ', tf_t[2])\n",
        "print('run(tf_t) : \\n', tfs.run(tf_t))"
      ],
      "execution_count": 14,
      "outputs": [
        {
          "output_type": "stream",
          "text": [
            "a1dim Shape :  (5,)\n",
            "tf_t :  Tensor(\"Const_2:0\", shape=(5,), dtype=float64)\n",
            "tf_t[0] :  Tensor(\"strided_slice:0\", shape=(), dtype=float64)\n",
            "tf_t[0] :  Tensor(\"strided_slice_1:0\", shape=(), dtype=float64)\n",
            "run(tf_t) : \n",
            " [1.   2.   3.   4.   5.99]\n"
          ],
          "name": "stdout"
        }
      ]
    },
    {
      "metadata": {
        "id": "A4I38ZIzebXF",
        "colab_type": "text"
      },
      "cell_type": "markdown",
      "source": [
        "## 2-Dimensional Tensors (Matrices)"
      ]
    },
    {
      "metadata": {
        "id": "VqnyNI_hebXG",
        "colab_type": "code",
        "colab": {
          "base_uri": "https://localhost:8080/",
          "height": 151
        },
        "outputId": "1bb1a19c-baf9-4bfa-f122-42926ba988a1"
      },
      "cell_type": "code",
      "source": [
        "a2dim = np.array([(1, 2, 3, 4, 5.99),\n",
        "                  (2, 3, 4, 5, 6.99),\n",
        "                  (3, 4, 5, 6, 7.99)\n",
        "                  ])\n",
        "print(\"a2dim Shape : \", a2dim.shape)\n",
        "\n",
        "tf_t = tf.convert_to_tensor(a2dim, dtype=tf.float64)\n",
        "\n",
        "print('tf_t : ', tf_t)\n",
        "print('tf_t[0][0] : ', tf_t[0][0])\n",
        "print('tf_t[1][2] : ', tf_t[1][2])\n",
        "print('run(tf_t) : \\n', tfs.run(tf_t))"
      ],
      "execution_count": 15,
      "outputs": [
        {
          "output_type": "stream",
          "text": [
            "a2dim Shape :  (3, 5)\n",
            "tf_t :  Tensor(\"Const_3:0\", shape=(3, 5), dtype=float64)\n",
            "tf_t[0][0] :  Tensor(\"strided_slice_3:0\", shape=(), dtype=float64)\n",
            "tf_t[1][2] :  Tensor(\"strided_slice_5:0\", shape=(), dtype=float64)\n",
            "run(tf_t) : \n",
            " [[1.   2.   3.   4.   5.99]\n",
            " [2.   3.   4.   5.   6.99]\n",
            " [3.   4.   5.   6.   7.99]]\n"
          ],
          "name": "stdout"
        }
      ]
    },
    {
      "metadata": {
        "id": "SiRo5sXzebXM",
        "colab_type": "text"
      },
      "cell_type": "markdown",
      "source": [
        "## 3-Dimensional Tensors"
      ]
    },
    {
      "metadata": {
        "id": "1DXUYPw4ebXP",
        "colab_type": "code",
        "colab": {
          "base_uri": "https://localhost:8080/",
          "height": 185
        },
        "outputId": "f0cf92bc-99cc-4332-ac2f-3004d1d214a2"
      },
      "cell_type": "code",
      "source": [
        "a3dim = np.array([[[1, 2],\n",
        "                   [3, 4]\n",
        "                   ],\n",
        "                  [[5, 6],\n",
        "                   [7, 8]\n",
        "                   ]\n",
        "                  ])\n",
        "print(\"a3dim Shape : \", a3dim.shape)\n",
        "\n",
        "tf_t = tf.convert_to_tensor(a3dim, dtype=tf.float64)\n",
        "\n",
        "print('tf_t : ', tf_t)\n",
        "print('tf_t[0][0][0] : ', tf_t[0][0][0])\n",
        "print('tf_t[1][1][1] : ', tf_t[1][1][1])\n",
        "print('run(tf_t) : \\n', tfs.run(tf_t))"
      ],
      "execution_count": 16,
      "outputs": [
        {
          "output_type": "stream",
          "text": [
            "a3dim Shape :  (2, 2, 2)\n",
            "tf_t :  Tensor(\"Const_4:0\", shape=(2, 2, 2), dtype=float64)\n",
            "tf_t[0][0][0] :  Tensor(\"strided_slice_8:0\", shape=(), dtype=float64)\n",
            "tf_t[1][1][1] :  Tensor(\"strided_slice_11:0\", shape=(), dtype=float64)\n",
            "run(tf_t) : \n",
            " [[[1. 2.]\n",
            "  [3. 4.]]\n",
            "\n",
            " [[5. 6.]\n",
            "  [7. 8.]]]\n"
          ],
          "name": "stdout"
        }
      ]
    },
    {
      "metadata": {
        "id": "4p0KCoqpebXW",
        "colab_type": "text"
      },
      "cell_type": "markdown",
      "source": [
        "# Variables"
      ]
    },
    {
      "metadata": {
        "scrolled": true,
        "id": "6pLTFXbpebXY",
        "colab_type": "code",
        "colab": {
          "base_uri": "https://localhost:8080/",
          "height": 154
        },
        "outputId": "197bb421-13ae-4b99-d5b3-24273141c1ce"
      },
      "cell_type": "code",
      "source": [
        "# Assume Linear Model y = w * x + b\n",
        "# Define model parameters\n",
        "w = tf.Variable([.3], tf.float32)\n",
        "b = tf.Variable([-.3], tf.float32)\n",
        "# Define model input and output\n",
        "x = tf.placeholder(tf.float32)\n",
        "y = w * x + b\n",
        "\n",
        "print(\"w:\", w)\n",
        "print(\"x:\", x)\n",
        "print(\"b:\", b)\n",
        "print(\"y:\", y)"
      ],
      "execution_count": 17,
      "outputs": [
        {
          "output_type": "stream",
          "text": [
            "WARNING:tensorflow:From /usr/local/lib/python3.6/dist-packages/tensorflow/python/framework/op_def_library.py:263: colocate_with (from tensorflow.python.framework.ops) is deprecated and will be removed in a future version.\n",
            "Instructions for updating:\n",
            "Colocations handled automatically by placer.\n",
            "w: <tf.Variable 'Variable:0' shape=(1,) dtype=float32_ref>\n",
            "x: Tensor(\"Placeholder_2:0\", dtype=float32)\n",
            "b: <tf.Variable 'Variable_1:0' shape=(1,) dtype=float32_ref>\n",
            "y: Tensor(\"add_1:0\", dtype=float32)\n"
          ],
          "name": "stdout"
        }
      ]
    },
    {
      "metadata": {
        "scrolled": true,
        "id": "_w64uJugebXg",
        "colab_type": "code",
        "colab": {
          "base_uri": "https://localhost:8080/",
          "height": 34
        },
        "outputId": "289db178-5d48-4b3f-9bb0-39cd0ef02267"
      },
      "cell_type": "code",
      "source": [
        "# initialize and print the variable y\n",
        "tf.global_variables_initializer().run()\n",
        "print('run(y,{x:[1,2,3,4]}) : ', tfs.run(y, {x: [1, 2, 3, 4]}))"
      ],
      "execution_count": 18,
      "outputs": [
        {
          "output_type": "stream",
          "text": [
            "run(y,{x:[1,2,3,4]}) :  [0.         0.3        0.6        0.90000004]\n"
          ],
          "name": "stdout"
        }
      ]
    },
    {
      "metadata": {
        "id": "Cd7tELLWebXn",
        "colab_type": "text"
      },
      "cell_type": "markdown",
      "source": [
        "# Creating Tensors from Library Functions"
      ]
    },
    {
      "metadata": {
        "id": "6EuiyhY4ebXp",
        "colab_type": "code",
        "colab": {
          "base_uri": "https://localhost:8080/",
          "height": 101
        },
        "outputId": "24f79252-3a48-4a3f-e363-679b9497eabc"
      },
      "cell_type": "code",
      "source": [
        "a = tf.zeros((100,))\n",
        "print(tfs.run(a))"
      ],
      "execution_count": 19,
      "outputs": [
        {
          "output_type": "stream",
          "text": [
            "[0. 0. 0. 0. 0. 0. 0. 0. 0. 0. 0. 0. 0. 0. 0. 0. 0. 0. 0. 0. 0. 0. 0. 0.\n",
            " 0. 0. 0. 0. 0. 0. 0. 0. 0. 0. 0. 0. 0. 0. 0. 0. 0. 0. 0. 0. 0. 0. 0. 0.\n",
            " 0. 0. 0. 0. 0. 0. 0. 0. 0. 0. 0. 0. 0. 0. 0. 0. 0. 0. 0. 0. 0. 0. 0. 0.\n",
            " 0. 0. 0. 0. 0. 0. 0. 0. 0. 0. 0. 0. 0. 0. 0. 0. 0. 0. 0. 0. 0. 0. 0. 0.\n",
            " 0. 0. 0. 0.]\n"
          ],
          "name": "stdout"
        }
      ]
    },
    {
      "metadata": {
        "id": "gs4kJY98ebXw",
        "colab_type": "text"
      },
      "cell_type": "markdown",
      "source": [
        "# Close the interactive session"
      ]
    },
    {
      "metadata": {
        "id": "9HnYBR1PebXx",
        "colab_type": "code",
        "colab": {}
      },
      "cell_type": "code",
      "source": [
        "tfs.close()"
      ],
      "execution_count": 0,
      "outputs": []
    },
    {
      "metadata": {
        "id": "vOagkBnyebX3",
        "colab_type": "text"
      },
      "cell_type": "markdown",
      "source": [
        "# Computation Graphs"
      ]
    },
    {
      "metadata": {
        "id": "65WVe7svebX6",
        "colab_type": "text"
      },
      "cell_type": "markdown",
      "source": [
        "## Building and Running simple computation graph"
      ]
    },
    {
      "metadata": {
        "id": "zWiBnbj-ebX8",
        "colab_type": "code",
        "colab": {
          "base_uri": "https://localhost:8080/",
          "height": 34
        },
        "outputId": "3564ca47-a08e-4b6e-a7eb-58eb98c3fcb9"
      },
      "cell_type": "code",
      "source": [
        "# Assume Linear Model y = w * x + b\n",
        "# Define model parameters\n",
        "w = tf.Variable([.3], tf.float32)\n",
        "b = tf.Variable([-.3], tf.float32)\n",
        "# Define model input and output\n",
        "x = tf.placeholder(tf.float32)\n",
        "y = w * x + b\n",
        "output = 0\n",
        "\n",
        "with tf.Session() as tfs:\n",
        "    # initialize and print the variable y\n",
        "    tf.global_variables_initializer().run()\n",
        "    output = tfs.run(y, {x: [1, 2, 3, 4]})\n",
        "print('output : ', output)"
      ],
      "execution_count": 21,
      "outputs": [
        {
          "output_type": "stream",
          "text": [
            "output :  [0.         0.3        0.6        0.90000004]\n"
          ],
          "name": "stdout"
        }
      ]
    },
    {
      "metadata": {
        "id": "0WZuercJebYH",
        "colab_type": "text"
      },
      "cell_type": "markdown",
      "source": [
        "## Graph on Compute Devices"
      ]
    },
    {
      "metadata": {
        "id": "0-K2QOJpebYJ",
        "colab_type": "code",
        "colab": {
          "base_uri": "https://localhost:8080/",
          "height": 538
        },
        "outputId": "2c18b81b-bea8-4413-edc9-e202e94e71c9"
      },
      "cell_type": "code",
      "source": [
        "from tensorflow.python.client import device_lib\n",
        "\n",
        "print(device_lib.list_local_devices())"
      ],
      "execution_count": 22,
      "outputs": [
        {
          "output_type": "stream",
          "text": [
            "[name: \"/device:CPU:0\"\n",
            "device_type: \"CPU\"\n",
            "memory_limit: 268435456\n",
            "locality {\n",
            "}\n",
            "incarnation: 5839890059506564450\n",
            ", name: \"/device:XLA_CPU:0\"\n",
            "device_type: \"XLA_CPU\"\n",
            "memory_limit: 17179869184\n",
            "locality {\n",
            "}\n",
            "incarnation: 7144638979267415689\n",
            "physical_device_desc: \"device: XLA_CPU device\"\n",
            ", name: \"/device:XLA_GPU:0\"\n",
            "device_type: \"XLA_GPU\"\n",
            "memory_limit: 17179869184\n",
            "locality {\n",
            "}\n",
            "incarnation: 18116582012152279029\n",
            "physical_device_desc: \"device: XLA_GPU device\"\n",
            ", name: \"/device:GPU:0\"\n",
            "device_type: \"GPU\"\n",
            "memory_limit: 11276946637\n",
            "locality {\n",
            "  bus_id: 1\n",
            "  links {\n",
            "  }\n",
            "}\n",
            "incarnation: 17980330406406053784\n",
            "physical_device_desc: \"device: 0, name: Tesla K80, pci bus id: 0000:00:04.0, compute capability: 3.7\"\n",
            "]\n"
          ],
          "name": "stdout"
        }
      ]
    },
    {
      "metadata": {
        "id": "-Dnj-WrrebYR",
        "colab_type": "code",
        "colab": {
          "base_uri": "https://localhost:8080/",
          "height": 34
        },
        "outputId": "8125b0fb-7c52-46c8-a8ee-63c7ae9eaa4a"
      },
      "cell_type": "code",
      "source": [
        "tf.reset_default_graph()\n",
        "\n",
        "# Define model parameters\n",
        "w = tf.get_variable(name='w', initializer=[.3], dtype=tf.float32)\n",
        "b = tf.get_variable(name='b', initializer=[-.3], dtype=tf.float32)\n",
        "# Define model input and output\n",
        "x = tf.placeholder(name='x', dtype=tf.float32)\n",
        "y = w * x + b\n",
        "\n",
        "config = tf.ConfigProto()\n",
        "config.log_device_placement = True\n",
        "\n",
        "with tf.Session(config=config) as tfs:\n",
        "    # initialize and print the variable y\n",
        "    tfs.run(tf.global_variables_initializer())\n",
        "    print('output', tfs.run(y, {x: [1, 2, 3, 4]}))"
      ],
      "execution_count": 29,
      "outputs": [
        {
          "output_type": "stream",
          "text": [
            "output [0.         0.3        0.6        0.90000004]\n"
          ],
          "name": "stdout"
        }
      ]
    },
    {
      "metadata": {
        "id": "IEbAb75YebYX",
        "colab_type": "code",
        "colab": {
          "base_uri": "https://localhost:8080/",
          "height": 34
        },
        "outputId": "28daebde-518a-4eea-f86e-47df8a4025d2"
      },
      "cell_type": "code",
      "source": [
        "tf.reset_default_graph()\n",
        "\n",
        "with tf.device('/device:CPU:0'):\n",
        "    # Define model parameters\n",
        "    w = tf.get_variable(name='w', initializer=[.3], dtype=tf.float32)\n",
        "    b = tf.get_variable(name='b', initializer=[-.3], dtype=tf.float32)\n",
        "    # Define model input and output\n",
        "    x = tf.placeholder(name='x', dtype=tf.float32)\n",
        "    y = w * x + b\n",
        "\n",
        "config = tf.ConfigProto()\n",
        "config.log_device_placement = True\n",
        "\n",
        "with tf.Session(config=config) as tfs:\n",
        "    # initialize and print the variable y\n",
        "    tfs.run(tf.global_variables_initializer())\n",
        "    print('output', tfs.run(y, {x: [1, 2, 3, 4]}))"
      ],
      "execution_count": 24,
      "outputs": [
        {
          "output_type": "stream",
          "text": [
            "output [0.         0.3        0.6        0.90000004]\n"
          ],
          "name": "stdout"
        }
      ]
    },
    {
      "metadata": {
        "id": "r3RX4xEMebYb",
        "colab_type": "code",
        "colab": {
          "base_uri": "https://localhost:8080/",
          "height": 34
        },
        "outputId": "ccc5fc96-cbf1-4073-d3f6-577d0dd57183"
      },
      "cell_type": "code",
      "source": [
        "tf.reset_default_graph()\n",
        "\n",
        "with tf.device('/device:CPU:0'):\n",
        "    # Define model parameters\n",
        "    w = tf.get_variable(name='w', initializer=[.3], dtype=tf.float32)\n",
        "    b = tf.get_variable(name='b', initializer=[-.3], dtype=tf.float32)\n",
        "    # Define model input and output\n",
        "    x = tf.placeholder(name='x', dtype=tf.float32)\n",
        "with tf.device('/device:GPU:0'):\n",
        "    y = w * x + b\n",
        "\n",
        "config = tf.ConfigProto()\n",
        "config.log_device_placement = True\n",
        "\n",
        "with tf.Session(config=config) as tfs:\n",
        "    # initialize and print the variable y\n",
        "    tfs.run(tf.global_variables_initializer())\n",
        "    print('output', tfs.run(y, {x: [1, 2, 3, 4]}))"
      ],
      "execution_count": 25,
      "outputs": [
        {
          "output_type": "stream",
          "text": [
            "output [0.         0.3        0.6        0.90000004]\n"
          ],
          "name": "stdout"
        }
      ]
    },
    {
      "metadata": {
        "id": "FO_-3q4IebYg",
        "colab_type": "text"
      },
      "cell_type": "markdown",
      "source": [
        "## Executing Graph g as Default"
      ]
    },
    {
      "metadata": {
        "id": "4y-LX78kebYi",
        "colab_type": "code",
        "colab": {
          "base_uri": "https://localhost:8080/",
          "height": 34
        },
        "outputId": "8f40c6ec-53bf-40ce-d99f-8c49208f4ca0"
      },
      "cell_type": "code",
      "source": [
        "g = tf.Graph()\n",
        "output = 0\n",
        "\n",
        "# Assume Linear Model y = w * x + b\n",
        "\n",
        "with g.as_default():\n",
        "    # Define model parameters\n",
        "    w = tf.Variable([.3], tf.float32)\n",
        "    b = tf.Variable([-.3], tf.float32)\n",
        "    # Define model input and output\n",
        "    x = tf.placeholder(tf.float32)\n",
        "    y = w * x + b\n",
        "\n",
        "with tf.Session(graph=g) as tfs:\n",
        "    # initialize and print the variable y\n",
        "    tf.global_variables_initializer().run()\n",
        "    output = tfs.run(y, {x: [1, 2, 3, 4]})\n",
        "\n",
        "print('output : ', output)"
      ],
      "execution_count": 26,
      "outputs": [
        {
          "output_type": "stream",
          "text": [
            "output :  [0.         0.3        0.6        0.90000004]\n"
          ],
          "name": "stdout"
        }
      ]
    },
    {
      "metadata": {
        "collapsed": true,
        "id": "dhgWInZ9ebYn",
        "colab_type": "text"
      },
      "cell_type": "markdown",
      "source": [
        "# TensorBoard"
      ]
    },
    {
      "metadata": {
        "id": "pbMjc3joebYp",
        "colab_type": "code",
        "colab": {
          "base_uri": "https://localhost:8080/",
          "height": 34
        },
        "outputId": "9220f3c2-47cf-4592-9945-e43428a8d25c"
      },
      "cell_type": "code",
      "source": [
        "import tensorflow as tf\n",
        "import numpy as np\n",
        "\n",
        "# Assume Linear Model y = w * x + b\n",
        "# Define model parameters\n",
        "w = tf.Variable([.3], name='w', dtype=tf.float32)\n",
        "b = tf.Variable([-.3], name='b', dtype=tf.float32)\n",
        "# Define model input and output\n",
        "x = tf.placeholder(name='x', dtype=tf.float32)\n",
        "y = w * x + b\n",
        "\n",
        "with tf.Session() as tfs:\n",
        "    tf.global_variables_initializer().run()\n",
        "    writer = tf.summary.FileWriter('tflogs', tfs.graph)\n",
        "    print('run(y,{x:3}) : ', tfs.run(y, feed_dict={x: 3}))"
      ],
      "execution_count": 27,
      "outputs": [
        {
          "output_type": "stream",
          "text": [
            "run(y,{x:3}) :  [0.6]\n"
          ],
          "name": "stdout"
        }
      ]
    },
    {
      "metadata": {
        "id": "ybHKTV3rebYv",
        "colab_type": "code",
        "colab": {}
      },
      "cell_type": "code",
      "source": [
        "# execute: tensorboard --logdir=logs"
      ],
      "execution_count": 0,
      "outputs": []
    }
  ]
}